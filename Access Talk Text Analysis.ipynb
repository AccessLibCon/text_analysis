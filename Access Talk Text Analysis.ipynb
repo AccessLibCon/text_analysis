{
 "cells": [
  {
   "cell_type": "markdown",
   "metadata": {},
   "source": [
    "# Access Text Analysis\n",
    "\n",
    "This grabs the data from [https://github.com/AccessLibCon/text_analysis](https://github.com/AccessLibCon/text_analysis) and does uses Python NLTK to do some analysis\n",
    "\n",
    "Just click through all of the cells to run the analysis"
   ]
  },
  {
   "cell_type": "code",
   "execution_count": 1,
   "metadata": {},
   "outputs": [],
   "source": [
    "#Import the libraries that we'll need\n",
    "\n",
    "import os\n",
    "import string\n",
    "import json\n",
    "import nltk\n",
    "import glob\n",
    "import math\n",
    "import pandas as pd\n",
    "import numpy as np\n",
    "import matplotlib.pyplot as plt\n",
    "\n",
    "\n",
    "from shutil import unpack_archive\n",
    "\n",
    "from nltk.corpus import stopwords\n",
    "from nltk.classify import SklearnClassifier\n",
    "from nltk.sentiment.vader import SentimentIntensityAnalyzer"
   ]
  },
  {
   "cell_type": "code",
   "execution_count": 2,
   "metadata": {},
   "outputs": [
    {
     "data": {
      "text/plain": [
       "0"
      ]
     },
     "execution_count": 2,
     "metadata": {},
     "output_type": "execute_result"
    }
   ],
   "source": [
    "# Run a shell script to download all fo the CSV files\n",
    "os.system('./grab')\n"
   ]
  },
  {
   "cell_type": "code",
   "execution_count": 3,
   "metadata": {},
   "outputs": [
    {
     "name": "stdout",
     "output_type": "stream",
     "text": [
      "Loading our CSV files into a bunch of dataframes\n",
      "Loading...  1998\n",
      "Loading...  1999\n",
      "Loading...  2000\n",
      "Loading...  2001\n",
      "Loading...  2002\n",
      "Loading...  2003\n",
      "Loading...  2004\n",
      "Loading...  2005\n",
      "Loading...  2006\n",
      "Loading...  2007\n",
      "Loading...  2008\n",
      "Loading...  2009\n",
      "Loading...  2010\n",
      "Loading...  2011\n",
      "Loading...  2012\n",
      "Loading...  2013\n",
      "Loading...  2014\n",
      "Loading...  2015\n",
      "Loading...  2016\n",
      "Loading...  2017\n",
      "Loading...  2018\n",
      "Loading...  2019\n"
     ]
    }
   ],
   "source": [
    "# Load CSV Files\n",
    "\n",
    "print(\"Loading our CSV files into a bunch of dataframes\")\n",
    "df_dict = {}\n",
    "\n",
    "for f in sorted(os.listdir(os.curdir)):\n",
    "    if f.endswith('.csv'):\n",
    "        print(\"Loading... \",f[:-4])\n",
    "        df = pd.read_csv(f)\n",
    "        df_dict[f[:-4]] = df\n",
    "        "
   ]
  },
  {
   "cell_type": "code",
   "execution_count": 33,
   "metadata": {},
   "outputs": [
    {
     "data": {
      "image/png": "[encoded data removed]",
      "text/plain": [
       "<Figure size 432x288 with 1 Axes>"
      ]
     },
     "metadata": {
      "needs_background": "light"
     },
     "output_type": "display_data"
    }
   ],
   "source": [
    "\n",
    "# How many abstracts do we have of all the sessions\n",
    "\n",
    "year_list = [] \n",
    "good_abs_list = [] \n",
    "total_abs_list = [] \n",
    "percent_list = []\n",
    "\n",
    "for d in df_dict:\n",
    "    good_abs = 0\n",
    "    abs_count = len(df_dict[d].abstract)\n",
    "    for a in df_dict[d].abstract:\n",
    "        if type(a) == type(\"str\"):\n",
    "            good_abs +=1\n",
    "            \n",
    "    year_list.append(d)\n",
    "    good_abs_list.append(good_abs)\n",
    "    total_abs_list.append(abs_count)\n",
    "    percent_list.append(good_abs/abs_count)\n",
    "    \n",
    "    \n",
    "\n",
    "plt.barh(year_list, total_abs_list)\n",
    "plt.barh(year_list,good_abs_list)\n",
    "plt.ylabel('Year')\n",
    "plt.title(\"How many abstract do we have?\")\n",
    "plt.legend([\"Total\",\"Have\"])\n",
    "plt.show()"
   ]
  },
  {
   "cell_type": "code",
   "execution_count": 48,
   "metadata": {},
   "outputs": [
    {
     "name": "stdout",
     "output_type": "stream",
     "text": [
      "{'positive': 270, 'neutral': 37, 'negative': 31}\n"
     ]
    }
   ],
   "source": [
    "\n",
    "#Binary Sentiment\n",
    "\n",
    "sid = SentimentIntensityAnalyzer()\n",
    "summary = {\"positive\":0,\"neutral\":0,\"negative\":0}\n",
    "\n",
    "pos_abs = []\n",
    "neutral_abs = []\n",
    "neg_abs = []\n",
    "\n",
    "for d in df_dict:\n",
    "    for a in df_dict[d].abstract:\n",
    "        if type(a) == type(\"str\"):\n",
    "            ss = sid.polarity_scores(a)\n",
    "            if ss[\"compound\"] == 0.0:\n",
    "                #analysis = analysis.append({\"Sent\": \"NEU\", \"Text\": x},ignore_index=True)\n",
    "                summary[\"neutral\"] +=1\n",
    "                neutral_abs.append(a)\n",
    "            elif ss[\"compound\"] > 0.0:\n",
    "                #analysis = analysis.append({\"Sent\": \"POS\", \"Text\": x},ignore_index=True)\n",
    "                summary[\"positive\"] +=1\n",
    "                pos_abs.append([a,ss[\"compound\"]])\n",
    "            else:\n",
    "                #analysis = analysis.append({\"Sent\": \"NEG\", \"Text\": x},ignore_index=True)\n",
    "                summary[\"negative\"] +=1\n",
    "                neg_abs.append([a,ss[\"compound\"]])\n",
    "\n",
    "        \n",
    "print(summary)\n"
   ]
  },
  {
   "cell_type": "code",
   "execution_count": 41,
   "metadata": {},
   "outputs": [
    {
     "data": {
      "image/png": "[encoded data removed]",
      "text/plain": [
       "<Figure size 432x288 with 1 Axes>"
      ]
     },
     "metadata": {},
     "output_type": "display_data"
    }
   ],
   "source": [
    "\n",
    "#Plot out that binary info into a nice pie\n",
    "plt.pie([float(s) for s in summary.values()],labels=[str(l) for l in summary.keys()],autopct='%.1f%%', explode=[.1,.1,.1], shadow=True, startangle=45)\n",
    "plt.axis('equal')\n",
    "plt.title(\"Abstracts from Access Conferences Sentiment Analysis\")\n",
    "plt.show()"
   ]
  },
  {
   "cell_type": "markdown",
   "metadata": {},
   "source": [
    "What is the most negative abstract?"
   ]
  },
  {
   "cell_type": "code",
   "execution_count": 58,
   "metadata": {},
   "outputs": [
    {
     "name": "stdout",
     "output_type": "stream",
     "text": [
      "A perennial favourite at Access. Cliff�s Notes is a survey, from Clifford�s unique perspective, of trends in digital libraries, information policy, and emerging interoperability standards. A miscellany of topics �to keep on your radar screens�.\n",
      "Kenton Good's summary:\n",
      "Security - The state of network and web security is really bad. Routers and switches are under attack as well as hardware with embedded processors - not just end computers or servers. How often do you upgrade the firmware on your printers? The pace of problems has really picked up as well. The time window between when problems and patches are announced and when exploits happen is growing ever smaller. The monoculture of desktop computers (microsoft) also creates a lot of problems - there is just not diversity.\n",
      "\n",
      "Spam - problem at a large scale, not just annoyance. Email is becoming less reliable because of spam filters. This is starting to change the perception that people have of the internet as a communications medium.\n",
      "\n",
      "Domain Names - Verizon/Network Solutions is now rediecting failed lookups back to the Verizon host - in an effort to try and sell their products.\n",
      "\n",
      "Broadband Radios - based on wireless technology. High speed wireless (g) at home will be a distrubtion channel for home entertainment. For example, radios that know how to talk to your computer.\n",
      "\n",
      "Stresses and Strains on the Internet - we are seeing the effects of giving out ill-advised patents on technology. These can mess up standards and deployment. Examples include current problems with streaming media patents. The good news is that the EU has been looking at software patents and takes a more conservative position on this.\n",
      "\n",
      "Personal Digital Libraries - we are seeing people start to build large collections of electronic music and videos. Also the downloading of entire collections of journals and other content.\n",
      "\n",
      "\n",
      "\n",
      "Score:  -0.8254\n"
     ]
    }
   ],
   "source": [
    "\n",
    "lowest_score = 0.0\n",
    "lowest_text = \"\"\n",
    "\n",
    "for a in neg_abs:\n",
    "    if a[1] < lowest_score:\n",
    "        lowest_score = a[1]\n",
    "        lowest_text = a[0]\n",
    "    \n",
    "print(lowest_text)\n",
    "print(\"Score: \",lowest_score)"
   ]
  },
  {
   "cell_type": "markdown",
   "metadata": {},
   "source": [
    "What is the most positive abstract?"
   ]
  },
  {
   "cell_type": "code",
   "execution_count": 59,
   "metadata": {},
   "outputs": [
    {
     "name": "stdout",
     "output_type": "stream",
     "text": [
      "If you build it, will they come? In the case of research data repositories, the answer has so far been a solid “maybe.” Discipline-specific repositories with some history, like ICPSR or arXiv, have tended to fare better than university institutional repositories over the past several years. There are many possible explanations for why this may be the case, but in general it seems safe to assume that institutional repository-style deposit is not sufficiently consistent with or salient to researchers’ existing workflows. Thus it must come with some additional incentive – a stable home for “green” open access materials, and/or some additional visibility which allows the work to be more easily cited, and credit received for that citation.\n",
      "\n",
      "When surveying our faculty for the features they most wanted to see in our new data repository platform, one of the most common responses was “Dropbox.” BC privacy laws currently preclude SFU faculty from making use of cloud services whose servers may be located in the United States – that is, in effect, all cloud services – and while our CIO has made an outreach effort to explain how and why to obey this policy, in some cases, there is no effective functional equivalent to status-quo cloud services, and some faculty have freely admitted to paying for cloud services while being unable to claim their cost due to university policy.\n",
      "\n",
      "This talk will cover the technical architecture and design considerations of building a local\n",
      "Dropbox alternative to facilitate data deposit.\n",
      "Score:  0.988\n"
     ]
    }
   ],
   "source": [
    "highest_score = 0.0\n",
    "highest_text = \"\"\n",
    "\n",
    "for a in pos_abs:\n",
    "    if a[1] > highest_score:\n",
    "        highest_score = a[1]\n",
    "        highest_text = a[0]\n",
    "    \n",
    "print(highest_text)\n",
    "print(\"Score: \",highest_score)"
   ]
  },
  {
   "cell_type": "code",
   "execution_count": null,
   "metadata": {},
   "outputs": [],
   "source": []
  }
 ],
 "metadata": {
  "kernelspec": {
   "display_name": "Python 3",
   "language": "python",
   "name": "python3"
  },
  "language_info": {
   "codemirror_mode": {
    "name": "ipython",
    "version": 3
   },
   "file_extension": ".py",
   "mimetype": "text/x-python",
   "name": "python",
   "nbconvert_exporter": "python",
   "pygments_lexer": "ipython3",
   "version": "3.7.1"
  }
 },
 "nbformat": 4,
 "nbformat_minor": 2
}
